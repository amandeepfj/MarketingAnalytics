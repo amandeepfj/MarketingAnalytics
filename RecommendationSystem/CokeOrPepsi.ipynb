{
 "cells": [
  {
   "cell_type": "markdown",
   "metadata": {},
   "source": [
    "# Recommendation system - Coke or Pepsi?"
   ]
  },
  {
   "cell_type": "markdown",
   "metadata": {},
   "source": [
    "The aim of this project is to use collaborative filtering to "
   ]
  },
  {
   "cell_type": "code",
   "execution_count": 1,
   "metadata": {},
   "outputs": [],
   "source": [
    "import pandas as pd\n",
    "import numpy as np\n",
    "from collections import defaultdict\n",
    "from surprise import evaluate, Reader, Dataset\n",
    "from surprise import KNNBasic, SVD, BaselineOnly, CoClustering, SlopeOne\n",
    "import seaborn as sns"
   ]
  },
  {
   "cell_type": "code",
   "execution_count": 2,
   "metadata": {},
   "outputs": [
    {
     "name": "stdout",
     "output_type": "stream",
     "text": [
      "   Unnamed: 0  cust_id    prod_id  total_spent\n",
      "0           0    29568  999151604         1.99\n",
      "1           1    29568  999153604         9.00\n",
      "2           2    29568  999153856         3.54\n"
     ]
    },
    {
     "data": {
      "text/plain": [
       "472063"
      ]
     },
     "execution_count": 2,
     "metadata": {},
     "output_type": "execute_result"
    }
   ],
   "source": [
    "full_data = pd.read_csv(\"two_weeks_purchases_data_for_similarities.csv\")#\"full_data_for_similarities.csv\")\n",
    "print(full_data.head(3))\n",
    "full_data.shape[0]"
   ]
  },
  {
   "cell_type": "code",
   "execution_count": 3,
   "metadata": {},
   "outputs": [],
   "source": [
    "user_items = full_data#.sample(n=5000, random_state=1)"
   ]
  },
  {
   "cell_type": "code",
   "execution_count": 4,
   "metadata": {},
   "outputs": [],
   "source": [
    "pepsis = [ '999167784', '999225580', '999237426', '999349816', '999590416']\n",
    "cokes =  [ '999153856', '999153857', '999165545', '999266066', '999279093', '999335824',\n",
    "           '999422862', '999165976', '999248329', '999261787', '999329593', '999186855',\n",
    "           '999341136', '999449211', '999329592', '999224991', '999279092', '999279094',\n",
    "           '999289563', '999642204', '999298467', '999245271']\n",
    "\n",
    "user_items['Brand'] = 'N'\n",
    "user_items.loc[user_items.prod_id.isin(pepsis), 'Brand'] = 'P'\n",
    "user_items.loc[user_items.prod_id.isin(cokes), 'Brand'] = 'C'\n",
    "\n",
    "cust_column = 'cust_id'\n",
    "product_column = 'prod_id'\n",
    "value_column = 'total_spent'"
   ]
  },
  {
   "cell_type": "code",
   "execution_count": 5,
   "metadata": {},
   "outputs": [],
   "source": [
    "coke_list = []\n",
    "pepsi_list = []\n",
    "def find_estimated_sales(predictions):\n",
    "    est_pepsi_sale = 0\n",
    "    est_coke_sale = 0\n",
    "    for uid, iid, true_r, est, _ in predictions:\n",
    "        if str(iid) in pepsis: # Yes coke.\n",
    "            pepsi_list.append([uid, iid, est])        \n",
    "        elif str(iid) in cokes:\n",
    "            coke_list.append([uid, iid, est])"
   ]
  },
  {
   "cell_type": "code",
   "execution_count": 6,
   "metadata": {},
   "outputs": [],
   "source": [
    "reader = Reader(rating_scale=(user_items[value_column].min(), user_items[value_column].max()))\n",
    "data = Dataset.load_from_df(user_items[[cust_column, product_column, value_column]], reader)\n",
    "trainingSet = data.build_full_trainset()\n",
    "#tesSet = trainingSet.build_anti_testset()"
   ]
  },
  {
   "cell_type": "code",
   "execution_count": 7,
   "metadata": {},
   "outputs": [],
   "source": [
    "merged = cokes.append(pepsis)\n",
    "df_to_predict = user_items.loc[user_items.Brand.isin(['P', 'C']), :].reset_index()\n",
    "test_coke_pep = Dataset.load_from_df(df_to_predict[[cust_column, product_column, value_column]], reader)\n",
    "testSet = test_coke_pep.build_full_trainset().build_anti_testset()"
   ]
  },
  {
   "cell_type": "code",
   "execution_count": 8,
   "metadata": {},
   "outputs": [
    {
     "data": {
      "text/plain": [
       "<matplotlib.axes._subplots.AxesSubplot at 0x2c0bdfd0>"
      ]
     },
     "execution_count": 8,
     "metadata": {},
     "output_type": "execute_result"
    },
    {
     "data": {
      "image/png": "[encoded data removed]",
      "text/plain": [
       "<Figure size 432x288 with 1 Axes>"
      ]
     },
     "metadata": {
      "needs_background": "light"
     },
     "output_type": "display_data"
    }
   ],
   "source": [
    "sns.distplot(df_to_predict[value_column])"
   ]
  },
  {
   "cell_type": "code",
   "execution_count": 9,
   "metadata": {},
   "outputs": [
    {
     "name": "stdout",
     "output_type": "stream",
     "text": [
      "Using SlopeOne\n"
     ]
    },
    {
     "data": {
      "text/plain": [
       "<surprise.prediction_algorithms.slope_one.SlopeOne at 0x389a8390>"
      ]
     },
     "execution_count": 9,
     "metadata": {},
     "output_type": "execute_result"
    }
   ],
   "source": [
    "print('Using SlopeOne')\n",
    "sim_options = {\n",
    "                'name': 'pearson',\n",
    "                'user_based': True #by looking at similarity in purchase patterns of users\n",
    "              }\n",
    "bsl_options = {'method': 'als',\n",
    "               'n_epochs': 5,\n",
    "               'reg_u': 12,\n",
    "               'reg_i': 5\n",
    "              }\n",
    "\n",
    "algo = SlopeOne()\n",
    "algo.fit(trainingSet)"
   ]
  },
  {
   "cell_type": "code",
   "execution_count": 10,
   "metadata": {},
   "outputs": [],
   "source": [
    "pred_SlopeOne = algo.test(testSet)"
   ]
  },
  {
   "cell_type": "code",
   "execution_count": 11,
   "metadata": {},
   "outputs": [],
   "source": [
    "find_estimated_sales(pred_SlopeOne)\n",
    "coke_df = pd.DataFrame(coke_list, columns=[cust_column, product_column, 'est_will_spend'])\n",
    "pepsi_df = pd.DataFrame(pepsi_list, columns=[cust_column, product_column, 'est_will_spend'])\n",
    "coke_df.to_csv(\"coke_estimationsSlopeOne_full.csv\")\n",
    "pepsi_df.to_csv(\"pepsi_estimationsSlopeOne_full.csv\")\n",
    "\n",
    "del coke_list[:]\n",
    "del pepsi_list[:]"
   ]
  },
  {
   "cell_type": "code",
   "execution_count": 12,
   "metadata": {},
   "outputs": [
    {
     "name": "stdout",
     "output_type": "stream",
     "text": [
      "Using KNNBasic\n",
      "Computing the pearson similarity matrix...\n",
      "Done computing similarity matrix.\n"
     ]
    },
    {
     "name": "stderr",
     "output_type": "stream",
     "text": [
      "C:\\Python27\\lib\\site-packages\\surprise\\prediction_algorithms\\algo_base.py:293: RuntimeWarning: invalid value encountered in sqrt\n",
      "  sim = construction_func[name](*args)\n"
     ]
    },
    {
     "data": {
      "text/plain": [
       "<surprise.prediction_algorithms.knns.KNNBasic at 0x3899ad30>"
      ]
     },
     "execution_count": 12,
     "metadata": {},
     "output_type": "execute_result"
    }
   ],
   "source": [
    "print('Using KNNBasic')\n",
    "sim_options = {\n",
    "    'name': 'pearson',\n",
    "    'user_based': True\n",
    "   # 'min_support' : 4\n",
    "}\n",
    "\n",
    "knn = KNNBasic(sim_options=sim_options)\n",
    "knn.fit(trainingSet)"
   ]
  },
  {
   "cell_type": "code",
   "execution_count": 13,
   "metadata": {},
   "outputs": [],
   "source": [
    "pred_KNNBasic = knn.test(testSet)"
   ]
  },
  {
   "cell_type": "code",
   "execution_count": 14,
   "metadata": {},
   "outputs": [],
   "source": [
    "find_estimated_sales(pred_KNNBasic)\n",
    "coke_df = pd.DataFrame(coke_list, columns=[cust_column, product_column, 'est_will_spend'])\n",
    "pepsi_df = pd.DataFrame(pepsi_list, columns=[cust_column, product_column, 'est_will_spend'])\n",
    "coke_df.to_csv(\"coke_estimationsKNNBasic_full.csv\")\n",
    "pepsi_df.to_csv(\"pepsi_estimationsKNNBasic_full.csv\")\n",
    "\n",
    "del coke_list[:]\n",
    "del pepsi_list[:]"
   ]
  },
  {
   "cell_type": "code",
   "execution_count": null,
   "metadata": {},
   "outputs": [
    {
     "name": "stdout",
     "output_type": "stream",
     "text": [
      "Computing the msd similarity matrix...\n",
      "Done computing similarity matrix.\n",
      "Computing the msd similarity matrix...\n",
      "Done computing similarity matrix.\n",
      "Computing the msd similarity matrix...\n",
      "Done computing similarity matrix.\n",
      "Computing the msd similarity matrix...\n",
      "Done computing similarity matrix.\n",
      "Computing the msd similarity matrix...\n",
      "Done computing similarity matrix.\n",
      "Computing the msd similarity matrix...\n",
      "Done computing similarity matrix.\n",
      "Computing the msd similarity matrix...\n",
      "Done computing similarity matrix.\n",
      "Computing the msd similarity matrix...\n",
      "Done computing similarity matrix.\n",
      "Computing the msd similarity matrix...\n",
      "Done computing similarity matrix.\n",
      "Computing the msd similarity matrix...\n",
      "Done computing similarity matrix.\n",
      "Computing the msd similarity matrix...\n",
      "Done computing similarity matrix.\n"
     ]
    }
   ],
   "source": [
    "from surprise.model_selection import GridSearchCV\n",
    "\n",
    "param_grid = {  'name': ['pearson'],\n",
    "                'user_based': [True],\n",
    "               # 'min_support': range(1, 10, 2),\n",
    "                 'k' : range(150, 200, 10)}\n",
    "gs = GridSearchCV(KNNBasic, param_grid, measures=['rmse'], cv=3)\n",
    "\n",
    "gs.fit(data)\n",
    "\n",
    "# best RMSE score\n",
    "print(gs.best_score['rmse'])\n",
    "\n",
    "# combination of parameters that gave the best RMSE score\n",
    "print(gs.best_params['rmse'])"
   ]
  },
  {
   "cell_type": "code",
   "execution_count": null,
   "metadata": {},
   "outputs": [],
   "source": [
    "algo = gs.best_estimator['rmse']\n",
    "algo.fit(trainingSet)"
   ]
  },
  {
   "cell_type": "code",
   "execution_count": null,
   "metadata": {},
   "outputs": [],
   "source": [
    "pred_GridCV = algo.test(testSet)"
   ]
  },
  {
   "cell_type": "code",
   "execution_count": null,
   "metadata": {},
   "outputs": [],
   "source": [
    "find_estimated_sales(pred_KNNBasic)\n",
    "coke_df = pd.DataFrame(coke_list, columns=[cust_column, product_column, 'est_will_spend'])\n",
    "pepsi_df = pd.DataFrame(pepsi_list, columns=[cust_column, product_column, 'est_will_spend'])\n",
    "coke_df.to_csv(\"coke_estimationsGridCV_full_2.csv\")\n",
    "pepsi_df.to_csv(\"pepsi_estimationGridCV_full_2.csv\")\n",
    "\n",
    "del coke_list[:]\n",
    "del pepsi_list[:]"
   ]
  },
  {
   "cell_type": "code",
   "execution_count": null,
   "metadata": {},
   "outputs": [],
   "source": [
    "results_df = pd.DataFrame.from_dict(gs.cv_results)\n",
    "results_df.to_csv(\"cross_validation_results_2.csv\")"
   ]
  }
 ],
 "metadata": {
  "kernelspec": {
   "display_name": "Python 2",
   "language": "python",
   "name": "python2"
  },
  "language_info": {
   "codemirror_mode": {
    "name": "ipython",
    "version": 2
   },
   "file_extension": ".py",
   "mimetype": "text/x-python",
   "name": "python",
   "nbconvert_exporter": "python",
   "pygments_lexer": "ipython2",
   "version": "2.7.15"
  }
 },
 "nbformat": 4,
 "nbformat_minor": 1
}
